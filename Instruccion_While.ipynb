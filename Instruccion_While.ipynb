{
 "cells": [
  {
   "cell_type": "markdown",
   "metadata": {},
   "source": [
    "# La instruccion de while"
   ]
  },
  {
   "cell_type": "code",
   "execution_count": 1,
   "metadata": {},
   "outputs": [],
   "source": [
    "goles = 10"
   ]
  },
  {
   "cell_type": "code",
   "execution_count": 2,
   "metadata": {},
   "outputs": [
    {
     "name": "stdout",
     "output_type": "stream",
     "text": [
      "CR7 tiene mas goles 15\n",
      "CR7 tiene mas goles 15\n",
      "CR7 tiene mas goles 15\n",
      "Messi hora tiene los mismos  15\n"
     ]
    }
   ],
   "source": [
    "goles_messi = 12\n",
    "goles_cr7 = 15\n",
    "while goles_cr7 > goles_messi:\n",
    "    goles_messi += 1\n",
    "    print(\"CR7 tiene mas goles\",goles_cr7)\n",
    "print(\"Messi hora tiene los mismos \",goles_messi)"
   ]
  },
  {
   "cell_type": "code",
   "execution_count": 3,
   "metadata": {},
   "outputs": [
    {
     "name": "stdout",
     "output_type": "stream",
     "text": [
      "11\n",
      "12\n",
      "13\n",
      "14\n",
      "15\n",
      "16\n",
      "17\n",
      "18\n",
      "19\n",
      "20\n",
      "21\n",
      "22\n",
      "23\n",
      "24\n",
      "25\n",
      "Fin\n"
     ]
    }
   ],
   "source": [
    "while goles < 25:\n",
    "    goles += 1\n",
    "    print(goles)\n",
    "print(\"Fin\")"
   ]
  },
  {
   "cell_type": "code",
   "execution_count": 4,
   "metadata": {},
   "outputs": [
    {
     "name": "stdout",
     "output_type": "stream",
     "text": [
      "Proceso termindo Messi\n"
     ]
    }
   ],
   "source": [
    "while True:\n",
    "    jugador = input(\"Escribe el nombre del mejor jugador del mundo: \")\n",
    "    if jugador == \"Messi\":\n",
    "        break\n",
    "    print(jugador)\n",
    "print(\"Proceso termindo\", jugador)\n"
   ]
  },
  {
   "cell_type": "markdown",
   "metadata": {},
   "source": [
    "### Vamos a buscar un jugador específico en una lista utilizando un bucle while."
   ]
  },
  {
   "cell_type": "code",
   "execution_count": 5,
   "metadata": {},
   "outputs": [
    {
     "name": "stdout",
     "output_type": "stream",
     "text": [
      "Neymar fue encontrado\n"
     ]
    }
   ],
   "source": [
    "jugadores = [\"Messi\",\"Ronaldo\",\"Neymar\",\"Mbappe\",\"Salah\"]\n",
    "buscar_jugador = \"Neymar\"\n",
    "encontrado = False\n",
    "i = 0\n",
    "\n",
    "while i < len(jugadores):\n",
    "    if jugadores[i] == buscar_jugador:\n",
    "        # print(jugadores[i])\n",
    "        print(f'{buscar_jugador} fue encontrado')\n",
    "        encontrado = True\n",
    "        break\n",
    "    i += 1\n",
    "if  not encontrado:\n",
    "    print(f\"{buscar_jugador} no se encontro en la lista\")"
   ]
  },
  {
   "cell_type": "markdown",
   "metadata": {},
   "source": [
    "### Encontrar el primer gol en una lista de eventos de partido"
   ]
  },
  {
   "cell_type": "code",
   "execution_count": 14,
   "metadata": {},
   "outputs": [
    {
     "name": "stdout",
     "output_type": "stream",
     "text": [
      "El primer gol del partido: Sustitución\n"
     ]
    }
   ],
   "source": [
    "eventos = [\"Tarjeta amarilla\", \"Sustitución\", \"Gol de Messi\", \"Falta\", \"Gol de Ronaldo\"]\n",
    "\n",
    "i = 0\n",
    "while i < len(eventos):\n",
    "    if \"Tarjeta\" not in eventos[i]:\n",
    "        print(f\"El primer gol del partido: {eventos[i]}\")\n",
    "        break\n",
    "    i += 1\n"
   ]
  },
  {
   "cell_type": "markdown",
   "metadata": {},
   "source": []
  },
  {
   "cell_type": "code",
   "execution_count": 7,
   "metadata": {},
   "outputs": [
    {
     "name": "stdout",
     "output_type": "stream",
     "text": [
      "Partido encontrado: ['Equipo C vs Equipo D', '1-2']\n"
     ]
    }
   ],
   "source": [
    "partidos = [\n",
    "    [\"Equipo A vs Equipo B\", \"0-0\"],\n",
    "    [\"Equipo C vs Equipo D\", \"1-2\"],\n",
    "    [\"Equipo E vs Equipo F\", \"2-1\"]\n",
    "]\n",
    "\n",
    "partido_buscado = \"Equipo C vs Equipo D\"\n",
    "encontrado = False\n",
    "i = 0\n",
    "\n",
    "while i < len(partidos):\n",
    "    if partido_buscado in partidos[i]:\n",
    "        print(f\"Partido encontrado: {partidos[i]}\")\n",
    "        encontrado = True\n",
    "        break\n",
    "    i += 1\n",
    "\n",
    "if not encontrado:\n",
    "    print(f\"{partido_buscado} no se encuentra en la lista de partidos.\")\n"
   ]
  },
  {
   "cell_type": "markdown",
   "metadata": {},
   "source": [
    "### Continue"
   ]
  },
  {
   "cell_type": "code",
   "execution_count": 8,
   "metadata": {},
   "outputs": [
    {
     "name": "stdout",
     "output_type": "stream",
     "text": [
      "Messi\n",
      "Neymar\n",
      "Mbappe\n",
      "Salah\n"
     ]
    }
   ],
   "source": [
    "jugadores = [\"Messi\", \"Ronaldo\", \"Neymar\", \"Mbappe\", \"Salah\"]\n",
    "jugador_a_saltar = \"Ronaldo\" \n",
    "\n",
    "i = 0\n",
    "while i < len(jugadores):\n",
    "    if jugadores[i] == jugador_a_saltar:\n",
    "        i += 1\n",
    "        continue  # Saltar a Neymar\n",
    "    print(jugadores[i])\n",
    "    i += 1\n"
   ]
  },
  {
   "cell_type": "code",
   "execution_count": 9,
   "metadata": {},
   "outputs": [
    {
     "name": "stdout",
     "output_type": "stream",
     "text": [
      "Gol de Messi\n",
      "Gol de Ronaldo\n"
     ]
    }
   ],
   "source": [
    "eventos = [\"Tarjeta amarilla\", \"Sustitución\", \"Gol de Messi\", \"Falta\", \"Gol de Ronaldo\"]\n",
    "\n",
    "i = 0\n",
    "while i < len(eventos):\n",
    "    if \"Gol\" not in eventos[i]:\n",
    "        i += 1\n",
    "        continue  # Saltar eventos que no son goles\n",
    "    print(eventos[i])\n",
    "    i += 1\n"
   ]
  },
  {
   "cell_type": "markdown",
   "metadata": {},
   "source": []
  },
  {
   "cell_type": "code",
   "execution_count": 10,
   "metadata": {},
   "outputs": [
    {
     "name": "stdout",
     "output_type": "stream",
     "text": [
      "Messi: 30 goles\n",
      "Ronaldo: 25 goles\n",
      "Mbappe: 28 goles\n",
      "Salah: 22 goles\n"
     ]
    }
   ],
   "source": [
    "jugadores_goles = {\n",
    "    \"Messi\": 30,\n",
    "    \"Ronaldo\": 25,\n",
    "    \"Neymar\": 15,\n",
    "    \"Mbappe\": 28,\n",
    "    \"Salah\": 22\n",
    "}\n",
    "umbral_goles = 20\n",
    "\n",
    "jugadores = list(jugadores_goles.keys())\n",
    "i = 0\n",
    "while i < len(jugadores):\n",
    "    jugador = jugadores[i]\n",
    "    if jugadores_goles[jugador] < umbral_goles:\n",
    "        i += 1\n",
    "        continue  # Saltar jugadores con menos de 20 goles\n",
    "    print(f\"{jugador}: {jugadores_goles[jugador]} goles\")\n",
    "    i += 1\n"
   ]
  },
  {
   "cell_type": "code",
   "execution_count": 11,
   "metadata": {},
   "outputs": [
    {
     "name": "stdout",
     "output_type": "stream",
     "text": [
      "Messi anotó su primer gol en el minuto 5\n",
      "Ronaldo anotó su primer gol en el minuto 15\n",
      "Neymar anotó su primer gol en el minuto 35\n"
     ]
    }
   ],
   "source": [
    "goles = [\n",
    "    [5, \"Messi\"],\n",
    "    [15, \"Ronaldo\"],\n",
    "    [23, \"Messi\"],\n",
    "    [35, \"Neymar\"],\n",
    "    [45, \"Ronaldo\"]\n",
    "]\n",
    "\n",
    "jugadores_con_gol = set()\n",
    "\n",
    "i = 0\n",
    "while i < len(goles):\n",
    "    minuto, jugador = goles[i]\n",
    "    if jugador in jugadores_con_gol:\n",
    "        i += 1\n",
    "        continue  # Saltar si el jugador ya ha anotado\n",
    "    jugadores_con_gol.add(jugador)\n",
    "    print(f\"{jugador} anotó su primer gol en el minuto {minuto}\")\n",
    "    i += 1\n"
   ]
  },
  {
   "cell_type": "code",
   "execution_count": 12,
   "metadata": {},
   "outputs": [],
   "source": [
    "lista = [\"Messi\",4,\"Barcelona\"]\n",
    "jugador,goles,equipo = lista"
   ]
  },
  {
   "cell_type": "code",
   "execution_count": null,
   "metadata": {},
   "outputs": [],
   "source": []
  },
  {
   "cell_type": "code",
   "execution_count": null,
   "metadata": {},
   "outputs": [],
   "source": []
  }
 ],
 "metadata": {
  "kernelspec": {
   "display_name": "Python 3",
   "language": "python",
   "name": "python3"
  },
  "language_info": {
   "codemirror_mode": {
    "name": "ipython",
    "version": 3
   },
   "file_extension": ".py",
   "mimetype": "text/x-python",
   "name": "python",
   "nbconvert_exporter": "python",
   "pygments_lexer": "ipython3",
   "version": "3.9.13"
  }
 },
 "nbformat": 4,
 "nbformat_minor": 2
}

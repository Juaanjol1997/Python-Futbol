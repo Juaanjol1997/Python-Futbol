{
 "cells": [
  {
   "cell_type": "markdown",
   "metadata": {},
   "source": [
    "Contador de Goles:\n",
    "\n",
    "Escribe un programa que cuente del 1 al 10 goles usando un ciclo while y que imprima cada gol en la consola."
   ]
  },
  {
   "cell_type": "code",
   "execution_count": 2,
   "metadata": {},
   "outputs": [
    {
     "name": "stdout",
     "output_type": "stream",
     "text": [
      "Gol 1\n",
      "Gol 2\n",
      "Gol 3\n",
      "Gol 4\n",
      "Gol 5\n",
      "Gol 6\n",
      "Gol 7\n",
      "Gol 8\n",
      "Gol 9\n",
      "Gol 10\n"
     ]
    }
   ],
   "source": [
    "goles = 1\n",
    "while goles <=10:\n",
    "    print(\"Gol\",goles)\n",
    "    goles += 1\n"
   ]
  },
  {
   "cell_type": "markdown",
   "metadata": {},
   "source": [
    "Suma de Goles en la jornada:\n",
    "\n",
    "Escribe un programa que solicite al usuario que ingrese la cantidad de goles marcados por un equipo en cada partido hasta que ingrese el número 0 (indicando que no hay más partidos). El programa debe sumar todos los goles ingresados (excluyendo el 0) y mostrar el total de goles marcados."
   ]
  },
  {
   "cell_type": "code",
   "execution_count": 10,
   "metadata": {},
   "outputs": [
    {
     "name": "stdout",
     "output_type": "stream",
     "text": [
      "fueron 39 goles\n"
     ]
    }
   ],
   "source": [
    "suma = 0\n",
    "while True:\n",
    "    goles = int(input(\"Goles: \"))\n",
    "    if goles == 0:\n",
    "          break\n",
    "    suma += goles\n",
    "  \n",
    "print(f'fueron {suma} goles')\n",
    "        \n",
    "        "
   ]
  },
  {
   "cell_type": "code",
   "execution_count": 15,
   "metadata": {},
   "outputs": [
    {
     "name": "stdout",
     "output_type": "stream",
     "text": [
      "El número de camiseta es mayor.\n",
      "El número de camiseta es mayor.\n",
      "¡Correcto! El número de camiseta es 21\n"
     ]
    }
   ],
   "source": [
    "import random\n",
    "\n",
    "# Genera un número aleatorio entre 1 y 100\n",
    "# numero_jugador = random.randint(1, 100)\n",
    "numero_jugador = 21\n",
    "# Inicializa la adivinanza del usuario a un valor que no sea el número generado\n",
    "adivinanza = -1\n",
    "\n",
    "while adivinanza != numero_jugador:\n",
    "    # Solicita una adivinanza al usuario\n",
    "    adivinanza = int(input(\"Adivina el número de camiseta del jugador (entre 1 y 100): \"))\n",
    "    \n",
    "    if adivinanza < numero_jugador:\n",
    "        print(\"El número de camiseta es mayor.\")\n",
    "    elif adivinanza > numero_jugador:\n",
    "        print(\"El número de camiseta es menor.\")\n",
    "    else:\n",
    "        print(\"¡Correcto! El número de camiseta es\", numero_jugador)\n"
   ]
  }
 ],
 "metadata": {
  "kernelspec": {
   "display_name": "Python 3",
   "language": "python",
   "name": "python3"
  },
  "language_info": {
   "codemirror_mode": {
    "name": "ipython",
    "version": 3
   },
   "file_extension": ".py",
   "mimetype": "text/x-python",
   "name": "python",
   "nbconvert_exporter": "python",
   "pygments_lexer": "ipython3",
   "version": "3.9.13"
  }
 },
 "nbformat": 4,
 "nbformat_minor": 2
}
